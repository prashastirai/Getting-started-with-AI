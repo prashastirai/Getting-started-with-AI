{
  "cells": [
    {
      "cell_type": "markdown",
      "metadata": {
        "id": "U48hO1_V_JRG",
        "pycharm": {
          "name": "#%% md\n"
        }
      },
      "source": [
        "# Building an AI-Powered Document Retrieval System with Docling and Granite\n",
        "\n",
        "*Using IBM Granite Models*"
      ]
    },
    {
      "cell_type": "markdown",
      "metadata": {
        "id": "_eDALN1A9LF8"
      },
      "source": [
        "## Recipe Overview\n",
        "\n",
        "Welcome to this Granite recipe, in this recipe, you'll learn to harness the power of advanced tools to build AI-powered document retrieval systems. It will guide you through:\n",
        "\n",
        "- **Document Processing:** Learn to handle documents from various sources, parse and transform them into usable formats, and store them in vector databases using Docling.\n",
        "- **Retrieval-Augmented Generation (RAG):** Understand how to connect large language models (LLMs) like Granite with external knowledge bases to enhance query responses and generate valuable insights.\n",
        "- **LangChain for Workflow Integration:** Discover how to use LangChain to streamline and orchestrate document processing and retrieval workflows, enabling seamless interaction between different components of the system.\n",
        "\n",
        "This recipe leverages three cutting-edge technologies:\n",
        "\n",
        "1. **[Docling](https://docling-project.github.io/docling/):** An open-source toolkit for parsing and converting documents.\n",
        "2. **[Granite](https://www.ibm.com/granite/docs/models/granite/):** A state-of-the-art LLM available via an [API](https://www.ibm.com/topics/api) through Replicate, providing robust natural language capabilities.\n",
        "3. **[LangChain](https://github.com/langchain-ai/langchain):** A powerful framework for building applications powered by language models, designed to simplify complex workflows and integrate external tools seamlessly.\n",
        "\n",
        "By the end of this recipe, you will:\n",
        "- Gain proficiency in document processing and chunking.\n",
        "- Integrate vector databases to enhance retrieval capabilities.\n",
        "- Utilize RAG to perform efficient and accurate data retrieval for real-world applications.\n",
        "\n",
        "This recipe is designed for AI developers, researchers, and enthusiasts looking to enhance their knowledge of document management and advanced NLP techniques.\n"
      ]
    },
    {
      "cell_type": "markdown",
      "metadata": {
        "id": "vooxv7ltEZBf"
      },
      "source": [
        "\n",
        "## Prerequisites\n",
        "\n",
        "- Familiarity with Python programming.\n",
        "- Basic understanding of large language models and natural language processing concepts.\n"
      ]
    },
    {
      "cell_type": "markdown",
      "metadata": {
        "id": "PN2mK175_JRH",
        "jupyter": {
          "outputs_hidden": false
        },
        "pycharm": {
          "name": "#%% md\n"
        }
      },
      "source": [
        "## Step 1: Setting up the environment"
      ]
    },
    {
      "cell_type": "markdown",
      "metadata": {
        "id": "4p_2cX1-_JRI",
        "jupyter": {
          "outputs_hidden": false
        },
        "pycharm": {
          "name": "#%% md\n"
        }
      },
      "source": [
        "Install dependencies."
      ]
    },
    {
      "cell_type": "code",
      "execution_count": 1,
      "metadata": {
        "id": "BfMWUUSs_JRI",
        "jupyter": {
          "outputs_hidden": false
        },
        "pycharm": {
          "name": "#%%\n"
        },
        "outputId": "c7ad8588-7596-43c6-aec4-35e5ca088040",
        "colab": {
          "base_uri": "https://localhost:8080/"
        }
      },
      "outputs": [
        {
          "output_type": "stream",
          "name": "stdout",
          "text": [
            "Collecting git+https://github.com/ibm-granite-community/utils.git\n",
            "  Cloning https://github.com/ibm-granite-community/utils.git to /tmp/pip-req-build-mza47pul\n",
            "  Running command git clone --filter=blob:none --quiet https://github.com/ibm-granite-community/utils.git /tmp/pip-req-build-mza47pul\n",
            "  Resolved https://github.com/ibm-granite-community/utils.git to commit 68309388c1f857d25a6fe680caedb6d4cc1dcdaf\n",
            "  Installing build dependencies ... \u001b[?25l\u001b[?25hdone\n",
            "  Getting requirements to build wheel ... \u001b[?25l\u001b[?25hdone\n",
            "  Preparing metadata (pyproject.toml) ... \u001b[?25l\u001b[?25hdone\n",
            "Requirement already satisfied: transformers in /usr/local/lib/python3.12/dist-packages (4.55.4)\n",
            "Requirement already satisfied: langchain_community in /usr/local/lib/python3.12/dist-packages (0.3.29)\n",
            "Requirement already satisfied: langchain_milvus in /usr/local/lib/python3.12/dist-packages (0.2.1)\n",
            "Requirement already satisfied: docling in /usr/local/lib/python3.12/dist-packages (2.48.0)\n",
            "Requirement already satisfied: replicate in /usr/local/lib/python3.12/dist-packages (1.0.7)\n",
            "Requirement already satisfied: langchain_huggingface[full] in /usr/local/lib/python3.12/dist-packages (0.3.1)\n",
            "Requirement already satisfied: python-dotenv in /usr/local/lib/python3.12/dist-packages (from ibm-granite-community-utils==0.1.dev86) (1.1.1)\n",
            "Requirement already satisfied: langchain_core in /usr/local/lib/python3.12/dist-packages (from ibm-granite-community-utils==0.1.dev86) (0.3.75)\n",
            "Requirement already satisfied: typing_extensions in /usr/local/lib/python3.12/dist-packages (from ibm-granite-community-utils==0.1.dev86) (4.15.0)\n",
            "Requirement already satisfied: filelock in /usr/local/lib/python3.12/dist-packages (from transformers) (3.19.1)\n",
            "Requirement already satisfied: huggingface-hub<1.0,>=0.34.0 in /usr/local/lib/python3.12/dist-packages (from transformers) (0.34.4)\n",
            "Requirement already satisfied: numpy>=1.17 in /usr/local/lib/python3.12/dist-packages (from transformers) (2.0.2)\n",
            "Requirement already satisfied: packaging>=20.0 in /usr/local/lib/python3.12/dist-packages (from transformers) (25.0)\n",
            "Requirement already satisfied: pyyaml>=5.1 in /usr/local/lib/python3.12/dist-packages (from transformers) (6.0.2)\n",
            "Requirement already satisfied: regex!=2019.12.17 in /usr/local/lib/python3.12/dist-packages (from transformers) (2024.11.6)\n",
            "Requirement already satisfied: requests in /usr/local/lib/python3.12/dist-packages (from transformers) (2.32.5)\n",
            "Requirement already satisfied: tokenizers<0.22,>=0.21 in /usr/local/lib/python3.12/dist-packages (from transformers) (0.21.4)\n",
            "Requirement already satisfied: safetensors>=0.4.3 in /usr/local/lib/python3.12/dist-packages (from transformers) (0.6.2)\n",
            "Requirement already satisfied: tqdm>=4.27 in /usr/local/lib/python3.12/dist-packages (from transformers) (4.67.1)\n",
            "Requirement already satisfied: langchain<2.0.0,>=0.3.27 in /usr/local/lib/python3.12/dist-packages (from langchain_community) (0.3.27)\n",
            "Requirement already satisfied: SQLAlchemy<3,>=1.4 in /usr/local/lib/python3.12/dist-packages (from langchain_community) (2.0.43)\n",
            "Requirement already satisfied: aiohttp<4.0.0,>=3.8.3 in /usr/local/lib/python3.12/dist-packages (from langchain_community) (3.12.15)\n",
            "Requirement already satisfied: tenacity!=8.4.0,<10,>=8.1.0 in /usr/local/lib/python3.12/dist-packages (from langchain_community) (8.5.0)\n",
            "Requirement already satisfied: dataclasses-json<0.7,>=0.6.7 in /usr/local/lib/python3.12/dist-packages (from langchain_community) (0.6.7)\n",
            "Requirement already satisfied: pydantic-settings<3.0.0,>=2.10.1 in /usr/local/lib/python3.12/dist-packages (from langchain_community) (2.10.1)\n",
            "Requirement already satisfied: langsmith>=0.1.125 in /usr/local/lib/python3.12/dist-packages (from langchain_community) (0.4.16)\n",
            "Requirement already satisfied: httpx-sse<1.0.0,>=0.4.0 in /usr/local/lib/python3.12/dist-packages (from langchain_community) (0.4.1)\n",
            "Requirement already satisfied: sentence-transformers>=2.6.0 in /usr/local/lib/python3.12/dist-packages (from langchain_huggingface[full]) (5.1.0)\n",
            "Requirement already satisfied: pymilvus<3.0,>=2.5.7 in /usr/local/lib/python3.12/dist-packages (from langchain_milvus) (2.6.1)\n",
            "Requirement already satisfied: pydantic<3.0.0,>=2.0.0 in /usr/local/lib/python3.12/dist-packages (from docling) (2.11.7)\n",
            "Requirement already satisfied: docling-core<3.0.0,>=2.42.0 in /usr/local/lib/python3.12/dist-packages (from docling-core[chunking]<3.0.0,>=2.42.0->docling) (2.45.0)\n",
            "Requirement already satisfied: docling-parse<5.0.0,>=4.2.2 in /usr/local/lib/python3.12/dist-packages (from docling) (4.2.3)\n",
            "Requirement already satisfied: docling-ibm-models<4,>=3.9.0 in /usr/local/lib/python3.12/dist-packages (from docling) (3.9.0)\n",
            "Requirement already satisfied: filetype<2.0.0,>=1.2.0 in /usr/local/lib/python3.12/dist-packages (from docling) (1.2.0)\n",
            "Requirement already satisfied: pypdfium2!=4.30.1,<5.0.0,>=4.30.0 in /usr/local/lib/python3.12/dist-packages (from docling) (4.30.0)\n",
            "Requirement already satisfied: easyocr<2.0,>=1.7 in /usr/local/lib/python3.12/dist-packages (from docling) (1.7.2)\n",
            "Requirement already satisfied: certifi>=2024.7.4 in /usr/local/lib/python3.12/dist-packages (from docling) (2025.8.3)\n",
            "Requirement already satisfied: rtree<2.0.0,>=1.3.0 in /usr/local/lib/python3.12/dist-packages (from docling) (1.4.1)\n",
            "Requirement already satisfied: typer<0.17.0,>=0.12.5 in /usr/local/lib/python3.12/dist-packages (from docling) (0.16.1)\n",
            "Requirement already satisfied: python-docx<2.0.0,>=1.1.2 in /usr/local/lib/python3.12/dist-packages (from docling) (1.2.0)\n",
            "Requirement already satisfied: python-pptx<2.0.0,>=1.0.2 in /usr/local/lib/python3.12/dist-packages (from docling) (1.0.2)\n",
            "Requirement already satisfied: beautifulsoup4<5.0.0,>=4.12.3 in /usr/local/lib/python3.12/dist-packages (from docling) (4.13.5)\n",
            "Requirement already satisfied: pandas<3.0.0,>=2.1.4 in /usr/local/lib/python3.12/dist-packages (from docling) (2.2.2)\n",
            "Requirement already satisfied: marko<3.0.0,>=2.1.2 in /usr/local/lib/python3.12/dist-packages (from docling) (2.2.0)\n",
            "Requirement already satisfied: openpyxl<4.0.0,>=3.1.5 in /usr/local/lib/python3.12/dist-packages (from docling) (3.1.5)\n",
            "Requirement already satisfied: lxml<6.0.0,>=4.0.0 in /usr/local/lib/python3.12/dist-packages (from docling) (5.4.0)\n",
            "Requirement already satisfied: pillow<12.0.0,>=10.0.0 in /usr/local/lib/python3.12/dist-packages (from docling) (11.3.0)\n",
            "Requirement already satisfied: pluggy<2.0.0,>=1.0.0 in /usr/local/lib/python3.12/dist-packages (from docling) (1.6.0)\n",
            "Requirement already satisfied: pylatexenc<3.0,>=2.10 in /usr/local/lib/python3.12/dist-packages (from docling) (2.10)\n",
            "Requirement already satisfied: scipy<2.0.0,>=1.6.0 in /usr/local/lib/python3.12/dist-packages (from docling) (1.16.1)\n",
            "Requirement already satisfied: accelerate<2,>=1.0.0 in /usr/local/lib/python3.12/dist-packages (from docling) (1.10.1)\n",
            "Requirement already satisfied: httpx<1,>=0.21.0 in /usr/local/lib/python3.12/dist-packages (from replicate) (0.28.1)\n",
            "Requirement already satisfied: psutil in /usr/local/lib/python3.12/dist-packages (from accelerate<2,>=1.0.0->docling) (5.9.5)\n",
            "Requirement already satisfied: torch>=2.0.0 in /usr/local/lib/python3.12/dist-packages (from accelerate<2,>=1.0.0->docling) (2.8.0+cu126)\n",
            "Requirement already satisfied: aiohappyeyeballs>=2.5.0 in /usr/local/lib/python3.12/dist-packages (from aiohttp<4.0.0,>=3.8.3->langchain_community) (2.6.1)\n",
            "Requirement already satisfied: aiosignal>=1.4.0 in /usr/local/lib/python3.12/dist-packages (from aiohttp<4.0.0,>=3.8.3->langchain_community) (1.4.0)\n",
            "Requirement already satisfied: attrs>=17.3.0 in /usr/local/lib/python3.12/dist-packages (from aiohttp<4.0.0,>=3.8.3->langchain_community) (25.3.0)\n",
            "Requirement already satisfied: frozenlist>=1.1.1 in /usr/local/lib/python3.12/dist-packages (from aiohttp<4.0.0,>=3.8.3->langchain_community) (1.7.0)\n",
            "Requirement already satisfied: multidict<7.0,>=4.5 in /usr/local/lib/python3.12/dist-packages (from aiohttp<4.0.0,>=3.8.3->langchain_community) (6.6.4)\n",
            "Requirement already satisfied: propcache>=0.2.0 in /usr/local/lib/python3.12/dist-packages (from aiohttp<4.0.0,>=3.8.3->langchain_community) (0.3.2)\n",
            "Requirement already satisfied: yarl<2.0,>=1.17.0 in /usr/local/lib/python3.12/dist-packages (from aiohttp<4.0.0,>=3.8.3->langchain_community) (1.20.1)\n",
            "Requirement already satisfied: soupsieve>1.2 in /usr/local/lib/python3.12/dist-packages (from beautifulsoup4<5.0.0,>=4.12.3->docling) (2.7)\n",
            "Requirement already satisfied: marshmallow<4.0.0,>=3.18.0 in /usr/local/lib/python3.12/dist-packages (from dataclasses-json<0.7,>=0.6.7->langchain_community) (3.26.1)\n",
            "Requirement already satisfied: typing-inspect<1,>=0.4.0 in /usr/local/lib/python3.12/dist-packages (from dataclasses-json<0.7,>=0.6.7->langchain_community) (0.9.0)\n",
            "Requirement already satisfied: jsonschema<5.0.0,>=4.16.0 in /usr/local/lib/python3.12/dist-packages (from docling-core<3.0.0,>=2.42.0->docling-core[chunking]<3.0.0,>=2.42.0->docling) (4.25.1)\n",
            "Requirement already satisfied: jsonref<2.0.0,>=1.1.0 in /usr/local/lib/python3.12/dist-packages (from docling-core<3.0.0,>=2.42.0->docling-core[chunking]<3.0.0,>=2.42.0->docling) (1.1.0)\n",
            "Requirement already satisfied: tabulate<0.10.0,>=0.9.0 in /usr/local/lib/python3.12/dist-packages (from docling-core<3.0.0,>=2.42.0->docling-core[chunking]<3.0.0,>=2.42.0->docling) (0.9.0)\n",
            "Requirement already satisfied: latex2mathml<4.0.0,>=3.77.0 in /usr/local/lib/python3.12/dist-packages (from docling-core<3.0.0,>=2.42.0->docling-core[chunking]<3.0.0,>=2.42.0->docling) (3.78.1)\n",
            "Requirement already satisfied: semchunk<3.0.0,>=2.2.0 in /usr/local/lib/python3.12/dist-packages (from docling-core[chunking]<3.0.0,>=2.42.0->docling) (2.2.2)\n",
            "Requirement already satisfied: torchvision<1,>=0 in /usr/local/lib/python3.12/dist-packages (from docling-ibm-models<4,>=3.9.0->docling) (0.23.0+cu126)\n",
            "Requirement already satisfied: jsonlines<4.0.0,>=3.1.0 in /usr/local/lib/python3.12/dist-packages (from docling-ibm-models<4,>=3.9.0->docling) (3.1.0)\n",
            "Requirement already satisfied: opencv-python-headless<5.0.0.0,>=4.6.0.66 in /usr/local/lib/python3.12/dist-packages (from docling-ibm-models<4,>=3.9.0->docling) (4.12.0.88)\n",
            "Requirement already satisfied: scikit-image in /usr/local/lib/python3.12/dist-packages (from easyocr<2.0,>=1.7->docling) (0.25.2)\n",
            "Requirement already satisfied: python-bidi in /usr/local/lib/python3.12/dist-packages (from easyocr<2.0,>=1.7->docling) (0.6.6)\n",
            "Requirement already satisfied: Shapely in /usr/local/lib/python3.12/dist-packages (from easyocr<2.0,>=1.7->docling) (2.1.1)\n",
            "Requirement already satisfied: pyclipper in /usr/local/lib/python3.12/dist-packages (from easyocr<2.0,>=1.7->docling) (1.3.0.post6)\n",
            "Requirement already satisfied: ninja in /usr/local/lib/python3.12/dist-packages (from easyocr<2.0,>=1.7->docling) (1.13.0)\n",
            "Requirement already satisfied: anyio in /usr/local/lib/python3.12/dist-packages (from httpx<1,>=0.21.0->replicate) (4.10.0)\n",
            "Requirement already satisfied: httpcore==1.* in /usr/local/lib/python3.12/dist-packages (from httpx<1,>=0.21.0->replicate) (1.0.9)\n",
            "Requirement already satisfied: idna in /usr/local/lib/python3.12/dist-packages (from httpx<1,>=0.21.0->replicate) (3.10)\n",
            "Requirement already satisfied: h11>=0.16 in /usr/local/lib/python3.12/dist-packages (from httpcore==1.*->httpx<1,>=0.21.0->replicate) (0.16.0)\n",
            "Requirement already satisfied: fsspec>=2023.5.0 in /usr/local/lib/python3.12/dist-packages (from huggingface-hub<1.0,>=0.34.0->transformers) (2025.3.0)\n",
            "Requirement already satisfied: hf-xet<2.0.0,>=1.1.3 in /usr/local/lib/python3.12/dist-packages (from huggingface-hub<1.0,>=0.34.0->transformers) (1.1.8)\n",
            "Requirement already satisfied: langchain-text-splitters<1.0.0,>=0.3.9 in /usr/local/lib/python3.12/dist-packages (from langchain<2.0.0,>=0.3.27->langchain_community) (0.3.9)\n",
            "Requirement already satisfied: jsonpatch<2.0,>=1.33 in /usr/local/lib/python3.12/dist-packages (from langchain_core->ibm-granite-community-utils==0.1.dev86) (1.33)\n",
            "Requirement already satisfied: orjson>=3.9.14 in /usr/local/lib/python3.12/dist-packages (from langsmith>=0.1.125->langchain_community) (3.11.2)\n",
            "Requirement already satisfied: requests-toolbelt>=1.0.0 in /usr/local/lib/python3.12/dist-packages (from langsmith>=0.1.125->langchain_community) (1.0.0)\n",
            "Requirement already satisfied: zstandard>=0.23.0 in /usr/local/lib/python3.12/dist-packages (from langsmith>=0.1.125->langchain_community) (0.24.0)\n",
            "Requirement already satisfied: et-xmlfile in /usr/local/lib/python3.12/dist-packages (from openpyxl<4.0.0,>=3.1.5->docling) (2.0.0)\n",
            "Requirement already satisfied: python-dateutil>=2.8.2 in /usr/local/lib/python3.12/dist-packages (from pandas<3.0.0,>=2.1.4->docling) (2.9.0.post0)\n",
            "Requirement already satisfied: pytz>=2020.1 in /usr/local/lib/python3.12/dist-packages (from pandas<3.0.0,>=2.1.4->docling) (2025.2)\n",
            "Requirement already satisfied: tzdata>=2022.7 in /usr/local/lib/python3.12/dist-packages (from pandas<3.0.0,>=2.1.4->docling) (2025.2)\n",
            "Requirement already satisfied: annotated-types>=0.6.0 in /usr/local/lib/python3.12/dist-packages (from pydantic<3.0.0,>=2.0.0->docling) (0.7.0)\n",
            "Requirement already satisfied: pydantic-core==2.33.2 in /usr/local/lib/python3.12/dist-packages (from pydantic<3.0.0,>=2.0.0->docling) (2.33.2)\n",
            "Requirement already satisfied: typing-inspection>=0.4.0 in /usr/local/lib/python3.12/dist-packages (from pydantic<3.0.0,>=2.0.0->docling) (0.4.1)\n",
            "Requirement already satisfied: setuptools>69 in /usr/local/lib/python3.12/dist-packages (from pymilvus<3.0,>=2.5.7->langchain_milvus) (75.2.0)\n",
            "Requirement already satisfied: grpcio!=1.68.0,!=1.68.1,!=1.69.0,!=1.70.0,!=1.70.1,!=1.71.0,!=1.72.1,!=1.73.0,>=1.66.2 in /usr/local/lib/python3.12/dist-packages (from pymilvus<3.0,>=2.5.7->langchain_milvus) (1.74.0)\n",
            "Requirement already satisfied: protobuf>=5.27.2 in /usr/local/lib/python3.12/dist-packages (from pymilvus<3.0,>=2.5.7->langchain_milvus) (5.29.5)\n",
            "Requirement already satisfied: ujson>=2.0.0 in /usr/local/lib/python3.12/dist-packages (from pymilvus<3.0,>=2.5.7->langchain_milvus) (5.11.0)\n",
            "Requirement already satisfied: milvus-lite>=2.4.0 in /usr/local/lib/python3.12/dist-packages (from pymilvus<3.0,>=2.5.7->langchain_milvus) (2.5.1)\n",
            "Requirement already satisfied: XlsxWriter>=0.5.7 in /usr/local/lib/python3.12/dist-packages (from python-pptx<2.0.0,>=1.0.2->docling) (3.2.5)\n",
            "Requirement already satisfied: charset_normalizer<4,>=2 in /usr/local/lib/python3.12/dist-packages (from requests->transformers) (3.4.3)\n",
            "Requirement already satisfied: urllib3<3,>=1.21.1 in /usr/local/lib/python3.12/dist-packages (from requests->transformers) (2.5.0)\n",
            "Requirement already satisfied: scikit-learn in /usr/local/lib/python3.12/dist-packages (from sentence-transformers>=2.6.0->langchain_huggingface[full]) (1.6.1)\n",
            "Requirement already satisfied: greenlet>=1 in /usr/local/lib/python3.12/dist-packages (from SQLAlchemy<3,>=1.4->langchain_community) (3.2.4)\n",
            "Requirement already satisfied: click>=8.0.0 in /usr/local/lib/python3.12/dist-packages (from typer<0.17.0,>=0.12.5->docling) (8.2.1)\n",
            "Requirement already satisfied: shellingham>=1.3.0 in /usr/local/lib/python3.12/dist-packages (from typer<0.17.0,>=0.12.5->docling) (1.5.4)\n",
            "Requirement already satisfied: rich>=10.11.0 in /usr/local/lib/python3.12/dist-packages (from typer<0.17.0,>=0.12.5->docling) (13.9.4)\n",
            "Requirement already satisfied: jsonpointer>=1.9 in /usr/local/lib/python3.12/dist-packages (from jsonpatch<2.0,>=1.33->langchain_core->ibm-granite-community-utils==0.1.dev86) (3.0.0)\n",
            "Requirement already satisfied: jsonschema-specifications>=2023.03.6 in /usr/local/lib/python3.12/dist-packages (from jsonschema<5.0.0,>=4.16.0->docling-core<3.0.0,>=2.42.0->docling-core[chunking]<3.0.0,>=2.42.0->docling) (2025.4.1)\n",
            "Requirement already satisfied: referencing>=0.28.4 in /usr/local/lib/python3.12/dist-packages (from jsonschema<5.0.0,>=4.16.0->docling-core<3.0.0,>=2.42.0->docling-core[chunking]<3.0.0,>=2.42.0->docling) (0.36.2)\n",
            "Requirement already satisfied: rpds-py>=0.7.1 in /usr/local/lib/python3.12/dist-packages (from jsonschema<5.0.0,>=4.16.0->docling-core<3.0.0,>=2.42.0->docling-core[chunking]<3.0.0,>=2.42.0->docling) (0.27.0)\n",
            "Requirement already satisfied: six>=1.5 in /usr/local/lib/python3.12/dist-packages (from python-dateutil>=2.8.2->pandas<3.0.0,>=2.1.4->docling) (1.17.0)\n",
            "Requirement already satisfied: markdown-it-py>=2.2.0 in /usr/local/lib/python3.12/dist-packages (from rich>=10.11.0->typer<0.17.0,>=0.12.5->docling) (4.0.0)\n",
            "Requirement already satisfied: pygments<3.0.0,>=2.13.0 in /usr/local/lib/python3.12/dist-packages (from rich>=10.11.0->typer<0.17.0,>=0.12.5->docling) (2.19.2)\n",
            "Requirement already satisfied: mpire[dill] in /usr/local/lib/python3.12/dist-packages (from semchunk<3.0.0,>=2.2.0->docling-core[chunking]<3.0.0,>=2.42.0->docling) (2.10.2)\n",
            "Requirement already satisfied: sympy>=1.13.3 in /usr/local/lib/python3.12/dist-packages (from torch>=2.0.0->accelerate<2,>=1.0.0->docling) (1.13.3)\n",
            "Requirement already satisfied: networkx in /usr/local/lib/python3.12/dist-packages (from torch>=2.0.0->accelerate<2,>=1.0.0->docling) (3.5)\n",
            "Requirement already satisfied: jinja2 in /usr/local/lib/python3.12/dist-packages (from torch>=2.0.0->accelerate<2,>=1.0.0->docling) (3.1.6)\n",
            "Requirement already satisfied: nvidia-cuda-nvrtc-cu12==12.6.77 in /usr/local/lib/python3.12/dist-packages (from torch>=2.0.0->accelerate<2,>=1.0.0->docling) (12.6.77)\n",
            "Requirement already satisfied: nvidia-cuda-runtime-cu12==12.6.77 in /usr/local/lib/python3.12/dist-packages (from torch>=2.0.0->accelerate<2,>=1.0.0->docling) (12.6.77)\n",
            "Requirement already satisfied: nvidia-cuda-cupti-cu12==12.6.80 in /usr/local/lib/python3.12/dist-packages (from torch>=2.0.0->accelerate<2,>=1.0.0->docling) (12.6.80)\n",
            "Requirement already satisfied: nvidia-cudnn-cu12==9.10.2.21 in /usr/local/lib/python3.12/dist-packages (from torch>=2.0.0->accelerate<2,>=1.0.0->docling) (9.10.2.21)\n",
            "Requirement already satisfied: nvidia-cublas-cu12==12.6.4.1 in /usr/local/lib/python3.12/dist-packages (from torch>=2.0.0->accelerate<2,>=1.0.0->docling) (12.6.4.1)\n",
            "Requirement already satisfied: nvidia-cufft-cu12==11.3.0.4 in /usr/local/lib/python3.12/dist-packages (from torch>=2.0.0->accelerate<2,>=1.0.0->docling) (11.3.0.4)\n",
            "Requirement already satisfied: nvidia-curand-cu12==10.3.7.77 in /usr/local/lib/python3.12/dist-packages (from torch>=2.0.0->accelerate<2,>=1.0.0->docling) (10.3.7.77)\n",
            "Requirement already satisfied: nvidia-cusolver-cu12==11.7.1.2 in /usr/local/lib/python3.12/dist-packages (from torch>=2.0.0->accelerate<2,>=1.0.0->docling) (11.7.1.2)\n",
            "Requirement already satisfied: nvidia-cusparse-cu12==12.5.4.2 in /usr/local/lib/python3.12/dist-packages (from torch>=2.0.0->accelerate<2,>=1.0.0->docling) (12.5.4.2)\n",
            "Requirement already satisfied: nvidia-cusparselt-cu12==0.7.1 in /usr/local/lib/python3.12/dist-packages (from torch>=2.0.0->accelerate<2,>=1.0.0->docling) (0.7.1)\n",
            "Requirement already satisfied: nvidia-nccl-cu12==2.27.3 in /usr/local/lib/python3.12/dist-packages (from torch>=2.0.0->accelerate<2,>=1.0.0->docling) (2.27.3)\n",
            "Requirement already satisfied: nvidia-nvtx-cu12==12.6.77 in /usr/local/lib/python3.12/dist-packages (from torch>=2.0.0->accelerate<2,>=1.0.0->docling) (12.6.77)\n",
            "Requirement already satisfied: nvidia-nvjitlink-cu12==12.6.85 in /usr/local/lib/python3.12/dist-packages (from torch>=2.0.0->accelerate<2,>=1.0.0->docling) (12.6.85)\n",
            "Requirement already satisfied: nvidia-cufile-cu12==1.11.1.6 in /usr/local/lib/python3.12/dist-packages (from torch>=2.0.0->accelerate<2,>=1.0.0->docling) (1.11.1.6)\n",
            "Requirement already satisfied: triton==3.4.0 in /usr/local/lib/python3.12/dist-packages (from torch>=2.0.0->accelerate<2,>=1.0.0->docling) (3.4.0)\n",
            "Requirement already satisfied: mypy-extensions>=0.3.0 in /usr/local/lib/python3.12/dist-packages (from typing-inspect<1,>=0.4.0->dataclasses-json<0.7,>=0.6.7->langchain_community) (1.1.0)\n",
            "Requirement already satisfied: sniffio>=1.1 in /usr/local/lib/python3.12/dist-packages (from anyio->httpx<1,>=0.21.0->replicate) (1.3.1)\n",
            "Requirement already satisfied: imageio!=2.35.0,>=2.33 in /usr/local/lib/python3.12/dist-packages (from scikit-image->easyocr<2.0,>=1.7->docling) (2.37.0)\n",
            "Requirement already satisfied: tifffile>=2022.8.12 in /usr/local/lib/python3.12/dist-packages (from scikit-image->easyocr<2.0,>=1.7->docling) (2025.6.11)\n",
            "Requirement already satisfied: lazy-loader>=0.4 in /usr/local/lib/python3.12/dist-packages (from scikit-image->easyocr<2.0,>=1.7->docling) (0.4)\n",
            "Requirement already satisfied: joblib>=1.2.0 in /usr/local/lib/python3.12/dist-packages (from scikit-learn->sentence-transformers>=2.6.0->langchain_huggingface[full]) (1.5.1)\n",
            "Requirement already satisfied: threadpoolctl>=3.1.0 in /usr/local/lib/python3.12/dist-packages (from scikit-learn->sentence-transformers>=2.6.0->langchain_huggingface[full]) (3.6.0)\n",
            "Requirement already satisfied: mdurl~=0.1 in /usr/local/lib/python3.12/dist-packages (from markdown-it-py>=2.2.0->rich>=10.11.0->typer<0.17.0,>=0.12.5->docling) (0.1.2)\n",
            "Requirement already satisfied: mpmath<1.4,>=1.1.0 in /usr/local/lib/python3.12/dist-packages (from sympy>=1.13.3->torch>=2.0.0->accelerate<2,>=1.0.0->docling) (1.3.0)\n",
            "Requirement already satisfied: MarkupSafe>=2.0 in /usr/local/lib/python3.12/dist-packages (from jinja2->torch>=2.0.0->accelerate<2,>=1.0.0->docling) (3.0.2)\n",
            "Requirement already satisfied: multiprocess>=0.70.15 in /usr/local/lib/python3.12/dist-packages (from mpire[dill]->semchunk<3.0.0,>=2.2.0->docling-core[chunking]<3.0.0,>=2.42.0->docling) (0.70.16)\n",
            "Requirement already satisfied: dill>=0.3.8 in /usr/local/lib/python3.12/dist-packages (from multiprocess>=0.70.15->mpire[dill]->semchunk<3.0.0,>=2.2.0->docling-core[chunking]<3.0.0,>=2.42.0->docling) (0.3.8)\n"
          ]
        }
      ],
      "source": [
        "%pip install \"git+https://github.com/ibm-granite-community/utils.git\" \\\n",
        "    transformers \\\n",
        "    langchain_community \\\n",
        "    'langchain_huggingface[full]' \\\n",
        "    langchain_milvus \\\n",
        "    docling \\\n",
        "    replicate"
      ]
    },
    {
      "cell_type": "markdown",
      "metadata": {
        "id": "4gu-Oeay_JRJ"
      },
      "source": [
        "## Step 2: Selecting System Components"
      ]
    },
    {
      "cell_type": "markdown",
      "metadata": {
        "id": "EDZd6WEf_JRJ"
      },
      "source": [
        "### Choose your Embeddings Model"
      ]
    },
    {
      "cell_type": "markdown",
      "metadata": {
        "id": "KFuZBhG-_JRJ"
      },
      "source": [
        "Specify the model to use for generating embedding vectors from text. Here we will be using one of the new [Granite Embeddings models](https://huggingface.co/collections/ibm-granite/granite-embedding-models-6750b30c802c1926a35550bb)\n",
        "\n",
        "To use a model from another provider, replace this code cell with one from [this Embeddings Model recipe](https://github.com/ibm-granite-community/granite-kitchen/blob/main/recipes/Components/Langchain_Embeddings_Models.ipynb)."
      ]
    },
    {
      "cell_type": "code",
      "execution_count": 2,
      "metadata": {
        "id": "mvztNZly_JRJ",
        "outputId": "e641f83d-ac10-4d01-c283-0a1cf23be222",
        "colab": {
          "base_uri": "https://localhost:8080/"
        }
      },
      "outputs": [
        {
          "output_type": "stream",
          "name": "stderr",
          "text": [
            "/usr/local/lib/python3.12/dist-packages/huggingface_hub/utils/_auth.py:94: UserWarning: \n",
            "The secret `HF_TOKEN` does not exist in your Colab secrets.\n",
            "To authenticate with the Hugging Face Hub, create a token in your settings tab (https://huggingface.co/settings/tokens), set it as secret in your Google Colab and restart your session.\n",
            "You will be able to reuse this secret in all of your notebooks.\n",
            "Please note that authentication is recommended but still optional to access public models or datasets.\n",
            "  warnings.warn(\n"
          ]
        }
      ],
      "source": [
        "from langchain_huggingface import HuggingFaceEmbeddings\n",
        "from transformers import AutoTokenizer\n",
        "\n",
        "embeddings_model_path = \"ibm-granite/granite-embedding-30m-english\"\n",
        "embeddings_model = HuggingFaceEmbeddings(\n",
        "    model_name=embeddings_model_path,\n",
        ")\n",
        "embeddings_tokenizer = AutoTokenizer.from_pretrained(embeddings_model_path)"
      ]
    },
    {
      "cell_type": "markdown",
      "metadata": {
        "id": "ma8eWR10_JRJ"
      },
      "source": [
        "### Use the Granite model\n",
        "\n",
        "Select a Granite model from the [`ibm-granite`](https://replicate.com/ibm-granite) org on Replicate. Here we use the Replicate Langchain client to connect to the model.\n",
        "\n",
        "To get set up with Replicate, see [Getting Started with Replicate](https://github.com/ibm-granite-community/granite-kitchen/blob/main/recipes/Getting_Started/Getting_Started_with_Replicate.ipynb).\n",
        "\n",
        "To connect to a model on a provider other than Replicate, substitute this code cell with one from the [LLM component recipe](https://github.com/ibm-granite-community/granite-kitchen/blob/main/recipes/Components/Langchain_LLMs.ipynb)."
      ]
    },
    {
      "cell_type": "code",
      "execution_count": 3,
      "metadata": {
        "id": "Ckyj7Zrh_JRK",
        "outputId": "080a745e-2f81-4415-ac8b-b8c4f6ca0b0b",
        "colab": {
          "base_uri": "https://localhost:8080/"
        }
      },
      "outputs": [
        {
          "name": "stdout",
          "output_type": "stream",
          "text": [
            "REPLICATE_API_TOKEN not found in Google Colab secrets.\n",
            "Please enter your REPLICATE_API_TOKEN: ··········\n"
          ]
        }
      ],
      "source": [
        "from langchain_community.llms import Replicate\n",
        "from ibm_granite_community.notebook_utils import get_env_var\n",
        "\n",
        "model_path = \"ibm-granite/granite-3.3-8b-instruct\"\n",
        "model = Replicate(\n",
        "    model=model_path,\n",
        "    replicate_api_token=get_env_var(\"REPLICATE_API_TOKEN\"),\n",
        "    model_kwargs={\n",
        "        \"max_tokens\": 1000, # Set the maximum number of tokens to generate as output.\n",
        "        \"min_tokens\": 100, # Set the minimum number of tokens to generate as output.\n",
        "    },\n",
        ")\n",
        "tokenizer = AutoTokenizer.from_pretrained(model_path)"
      ]
    },
    {
      "cell_type": "markdown",
      "metadata": {
        "id": "skQ8Xn0L_JRK"
      },
      "source": [
        "Now that we have the model downloaded, let's try asking it a question"
      ]
    },
    {
      "cell_type": "code",
      "execution_count": 4,
      "metadata": {
        "id": "-Sj3zZYE_JRK",
        "outputId": "8fbf1a87-7e5c-4539-bd10-17c6d966cb7d",
        "colab": {
          "base_uri": "https://localhost:8080/"
        }
      },
      "outputs": [
        {
          "output_type": "stream",
          "name": "stdout",
          "text": [
            "Hatsu Hioki defeated Bryan Asakura by unanimous decision in their lightweight bout at UFC 310 on May 26, 2012. Hioki's victory came via scores of 29-28 across the board. Hioki's win was his first in the UFC after suffering a loss in his previous fight. Asakura, on the other hand, was competing in his third and final UFC fight, losing both of them after the bout with Hioki.\n"
          ]
        }
      ],
      "source": [
        "from ibm_granite_community.langchain import TokenizerChatPromptTemplate\n",
        "\n",
        "query = \"Who won in the Pantoja vs Asakura fight at UFC 310?\"\n",
        "\n",
        "# Create a Granite prompt for question-answering\n",
        "prompt_template = TokenizerChatPromptTemplate.from_template(template=\"{input}\", tokenizer=tokenizer)\n",
        "\n",
        "chain = prompt_template | model\n",
        "\n",
        "output = chain.invoke({\"input\": query})\n",
        "\n",
        "print(output)"
      ]
    },
    {
      "cell_type": "markdown",
      "metadata": {
        "id": "C_2KpI91JhNH"
      },
      "source": [
        "Now, I know that UFC 310 happened in 2024, and this does not seem to be the right Pantoja. The model doesn't seem to know the answer but at least understands that this matchup did not occur. Let's see if it has some specific UFC rules info."
      ]
    },
    {
      "cell_type": "code",
      "execution_count": 5,
      "metadata": {
        "id": "_eR6qTQzMX_a",
        "outputId": "dba1a2ca-9927-44af-ba92-17ec6b753faf",
        "colab": {
          "base_uri": "https://localhost:8080/"
        }
      },
      "outputs": [
        {
          "output_type": "stream",
          "name": "stdout",
          "text": [
            "In non-championship fights within the Ultimate Fighting Championship (UFC), fighters are generally allowed a weight allowance of up to 2.5 pounds (1.13 kilograms) at the lighter weight classes (Flyweight, Bantamweight, Featherweight, and Lightweight), and up to 4 pounds (1.81 kilograms) at the heavier weight classes (Welterweight, Middleweight, Light Heavyweight, and Heavyweight). This allowance is granted to accommodate the natural fluctuations in fighter weight due to factors such as dehydration and rehydration before weigh-ins, ensuring fairness in competition. \n",
            "\n",
            "It's essential to note that these allowances are part of the UFC's rules and may be subject to change. Always refer to the most recent Unified Rules of Mixed Martial Arts or consult the UFC's official website for the latest information regarding weight classes and allowances.\n",
            "\n",
            "Additionally, the UFC's Attire Policy and Medical suspensions are other important aspects to consider when preparing for a fight. Make sure to stay updated on these rules to ensure a smooth and compliant fight experience.\n"
          ]
        }
      ],
      "source": [
        "query1 = \"How much weight allowance is allowed in non championship fights in the UFC?\"\n",
        "\n",
        "output = chain.invoke({\"input\": query1})\n",
        "\n",
        "print(output)"
      ]
    },
    {
      "cell_type": "markdown",
      "metadata": {
        "id": "LkmllCgNNlcF"
      },
      "source": [
        "Based on the official UFC rules, this is also incorrect. Let's try getting some documents that contains this information for the model."
      ]
    },
    {
      "cell_type": "markdown",
      "metadata": {
        "id": "q2pGGBP7_JRJ"
      },
      "source": [
        "### Choose your Vector Database"
      ]
    },
    {
      "cell_type": "markdown",
      "metadata": {
        "id": "K4mMSwQx_JRJ"
      },
      "source": [
        "Specify the database to use for storing and retrieving embedding vectors.\n",
        "\n",
        "To connect to a vector database other than Milvus, replace this code cell with one from [this Vector Store recipe](https://github.com/ibm-granite-community/granite-kitchen/blob/main/recipes/Components/Langchain_Vector_Stores.ipynb)."
      ]
    },
    {
      "cell_type": "code",
      "execution_count": 6,
      "metadata": {
        "id": "MjaP-5Gp_JRJ",
        "outputId": "6b3e3b47-fed7-4d72-aa5e-6701b62d049c",
        "colab": {
          "base_uri": "https://localhost:8080/"
        }
      },
      "outputs": [
        {
          "output_type": "stream",
          "name": "stdout",
          "text": [
            "The vector database will be saved to /tmp/milvus__94b0it2.db\n"
          ]
        }
      ],
      "source": [
        "from langchain_milvus import Milvus\n",
        "import tempfile\n",
        "\n",
        "db_file = tempfile.NamedTemporaryFile(prefix=\"milvus_\", suffix=\".db\", delete=False).name\n",
        "print(f\"The vector database will be saved to {db_file}\")\n",
        "\n",
        "vector_db = Milvus(\n",
        "    embedding_function=embeddings_model,\n",
        "    connection_args={\"uri\": db_file},\n",
        "    auto_id=True,\n",
        "    enable_dynamic_field=True,\n",
        "    index_params={\"index_type\": \"AUTOINDEX\"},\n",
        ")"
      ]
    },
    {
      "cell_type": "markdown",
      "metadata": {
        "id": "nviHG3n7_JRK",
        "jupyter": {
          "outputs_hidden": false
        },
        "pycharm": {
          "name": "#%% md\n"
        }
      },
      "source": [
        "## Step 3: Building the Vector Database"
      ]
    },
    {
      "cell_type": "markdown",
      "metadata": {
        "id": "eZ7Guu7A_JRK"
      },
      "source": [
        "In this example, from a set of source documents, we use [Docling](https://docling-project.github.io/docling/) to convert the documents into text and then split the text into chunks, derive embedding vectors using the embedding model, and load it into the vector database. Creating this vector database will allow us to easily search across our documents, enabling us to use RAG."
      ]
    },
    {
      "cell_type": "markdown",
      "metadata": {
        "id": "HuB8kkzf_JRK"
      },
      "source": [
        "### Use Docling to download the documents, convert to text, and split into chunks"
      ]
    },
    {
      "cell_type": "markdown",
      "metadata": {
        "id": "se6So2yw_JRK"
      },
      "source": [
        "Here we have found a website that gives us information on UFC 310, as well as a PDF of the official UFC rules. Below, we will see that Docling can both convert and chunk the two documents."
      ]
    },
    {
      "cell_type": "code",
      "execution_count": 7,
      "metadata": {
        "id": "YNGz_0gZ_JRK",
        "outputId": "a564a8f0-2f5f-4114-c20a-2a36dba93798",
        "colab": {
          "base_uri": "https://localhost:8080/"
        }
      },
      "outputs": [
        {
          "output_type": "stream",
          "name": "stderr",
          "text": [
            "Token indices sequence length is longer than the specified maximum sequence length for this model (517 > 512). Running this sequence through the model will result in indexing errors\n",
            "WARNING:easyocr.easyocr:Downloading detection model, please wait. This may take several minutes depending upon your network connection.\n",
            "WARNING:easyocr.easyocr:Downloading recognition model, please wait. This may take several minutes depending upon your network connection.\n"
          ]
        },
        {
          "output_type": "stream",
          "name": "stdout",
          "text": [
            "24 document chunks created\n"
          ]
        }
      ],
      "source": [
        "# Docling imports\n",
        "from docling.document_converter import DocumentConverter\n",
        "from docling_core.transforms.chunker.hybrid_chunker import HybridChunker\n",
        "from docling_core.types.doc.labels import DocItemLabel\n",
        "from langchain_core.documents import Document\n",
        "\n",
        "# Here are our documents, feel free to add more documents in formats that Docling supports\n",
        "sources = [\n",
        "    \"https://www.ufc.com/news/main-card-results-highlights-winner-interviews-ufc-310-pantoja-vs-asakura\",\n",
        "    \"https://media.ufc.tv/discover-ufc/Unified_Rules_MMA.pdf\",\n",
        "]\n",
        "\n",
        "converter = DocumentConverter()\n",
        "\n",
        "# Convert and chunk out documents\n",
        "doc_id = 0\n",
        "texts: list[Document] = [\n",
        "    Document(page_content=chunk.text, metadata={\"doc_id\": (doc_id:=doc_id+1), \"source\": source})\n",
        "    for source in sources\n",
        "    for chunk in HybridChunker(tokenizer=embeddings_tokenizer).chunk(converter.convert(source=source).document)\n",
        "    if any(filter(lambda c: c.label in [DocItemLabel.TEXT, DocItemLabel.PARAGRAPH], iter(chunk.meta.doc_items)))\n",
        "]\n",
        "\n",
        "print(f\"{len(texts)} document chunks created\")"
      ]
    },
    {
      "cell_type": "code",
      "execution_count": 8,
      "metadata": {
        "id": "htIYVVjHPKSX",
        "outputId": "bad1bdd8-17d9-4aa2-ba6d-d69965ca616c",
        "colab": {
          "base_uri": "https://localhost:8080/"
        }
      },
      "outputs": [
        {
          "output_type": "stream",
          "name": "stdout",
          "text": [
            "Document ID: 1\n",
            "Source: https://www.ufc.com/news/main-card-results-highlights-winner-interviews-ufc-310-pantoja-vs-asakura\n",
            "Content:\n",
            "- [UFC Video Archive](https://imgvideoarchive.com/client/ufc?utm_source=ufc&utm_medium=website&utm_campaign=partner_marketing)\n",
            "- [PODCASTS](https://www.ufc.com/podcasts)\n",
            "- [SHOP](https://www.ufcstore.eu/en/?_s=bm-fi-ufcfi-prtsite-eghp-lu)\n",
            "- [VENUM](https://www.ufcstore.com/en/venum/br-4523273600+z-959633-3205242604?_s=bm-UFCStore_Venum-UFC.com-Shop-UFC_Navigation-2025)\n",
            "- [Apparel](https://www.ufcstore.com/en/apparel/c-3450654379+z-983054-2354459266?_s=bm-UFCStore_Apparel-UFC.com-Shop-UFC_Navigation-2025)\n",
            "- [UFC COLLECTIBLES](https://ufccollectibles.com/?utm_source=referral&utm_medium=ufc%20website%20navigation%20link&utm_campaign=partner-referral)\n",
            "- [UFC STRIKE](https://ufcstrike.com/)\n",
            "- [WHAT'S NEW](/consumer-products)\n",
            "- [Thorne Performance Solutions](https://www.thorne.com/partners/ufc)\n",
            "[Previous](/news/prelim-results-highlights-winner-interviews-ufc-310-pantoja-vs-asakura)\n",
            "[Next](/news/ufc-and-jeremys-razors-expand-partnership)\n",
            "Results\n",
            "================================================================================\n",
            "Document ID: 2\n",
            "Source: https://www.ufc.com/news/main-card-results-highlights-winner-interviews-ufc-310-pantoja-vs-asakura\n",
            "Content:\n",
            "See The Fight Results, Watch Post-Fight Interviews With The Main Card Winners And More From UFC 310: Pantoja vs Asakura, Live From T-Mobile Arena In Las Vegas, Nevada\n",
            "By E. Spencer Kyte, On X @spencerkyte\n",
            "• Dec. 8, 2024\n",
            "The UFC 310 preliminary card slate was outstanding, featuring six finishes and trio of entertaining three-round battles, setting the stage for a captivating pay-per-view main card at T-Mobile Arena in Las Vegas.\n",
            "And the action in the Octagon delivered in a massive way.\n",
            "Dooho Choi kicked off the festivities with a standout performance against Nate Landwehr, finishing from a mounted crucifix in the third round before Bryce Mitchell followed suit one fight later, putting Kron Gracie to sleep with a pair of thudding elbows from inside his guard. After heavyweight contenders Ciryl Gane and Alexander Volkov paired off in a close, competitive fight where the former interim champion came away on the happy side of a split decision verdict, Shavkat Rakhmonov ensured he will face welterweight champ Belal Muhammad next year by out-hustling Ian Machado Garry, handing the Irishman his first professional setback.\n",
            "In the main event, Alexandre Pantoja successfully defended the UFC flyweight title, taking the fight to dangerous challenger Kai Asakura, finishing the Japanese striker early in the second round.\n",
            "It was a thrilling night in the fight capital of the world, and we have all the details on what transpired collected for you below.\n",
            "*Main event and co-main event scheduled for five rounds. All other bouts scheduled for three rounds.*\n",
            "[**Prelim Results**](https://www.ufc.com/news/prelim-results-highlights-winner-interviews-ufc-310-pantoja-vs-asakura)\n",
            "|\n",
            "[**Official Scorecards**](https://www.ufc.com/news/official-judges-scorecards-ufc-310-pantoja-vs-asakura)\n",
            "================================================================================\n",
            "Document ID: 3\n",
            "Source: https://www.ufc.com/news/main-card-results-highlights-winner-interviews-ufc-310-pantoja-vs-asakura\n",
            "Content:\n",
            "- *Main Event: Alexandre Pantoja defeats Kai Asakura by submission (rear-naked choke) at 2:05 of Round 2*\n",
            "- *Co-Main Event: Shavkat Rakhmonov defeats Ian Machado Garry by unanimous decision (48-47, 48-47, 48-47)*\n",
            "- *Ciryl Gane defeats Alexander Volkov by split decision (29-28, 28-29, 29-28)*\n",
            "- *Bryce Mitchell defeats Kron Gracie by KO (elbow) at 0:39 of Round 3*\n",
            "- *Dooho Choi defeats Nate Landwehr by TKO (strikes) at 3:21 of Round 3*\n",
            "- *Dominick Reyes defeats Anthony Smith by TKO (strikes) at 4:46 of Round 2*\n",
            "- *Vicente Luque defeats Themba Gorimbo by submission (anaconda choke) at 0:52 of Round 1*\n",
            "- *Movsar Evloev defeats Aljamain Sterling by unanimous decision (29-28, 29-28, 29-28)*\n",
            "- *Bryan Battle defeats Randy Brown by split decision (28-29, 29-28, 29-28)*\n",
            "- *Eryk Anders defeats Chris Weidman by TKO (strikes) at 4:51 of Round 2*\n",
            "- *Joshua Van defeats Cody Durden by unanimous decision (29-28, 30-26, 30-27)*\n",
            "- *Michael Chiesa defeats Max Griffin by submission (rear-naked choke) at 1:56 of Round 3*\n",
            "- *Chase Hooper defeats Clay Guida by submission (armbar) at 3:41 of Round 1*\n",
            "- *Kennedy Nzechukwu defeats Lukasz Brzeski by TKO (strikes) at 4:51 of Round 1*\n",
            "Please enable Javascript to view this content\n",
            "================================================================================\n",
            "Document ID: 4\n",
            "Source: https://www.ufc.com/news/main-card-results-highlights-winner-interviews-ufc-310-pantoja-vs-asakura\n",
            "Content:\n",
            "[**Dooho Choi**](https://www.ufc.com/athlete/dooho-choi)\n",
            "asked for a quick return following his summer win over Bill Algeo and made the most of it in the UFC 310 main card opener, turning in a dominant effort against\n",
            "[Nate Landwehr](https://www.ufc.com/athlete/nate-landwehr)\n",
            ".\n",
            "Dooho Choi Octagon Interview | UFC 310\n",
            "Unlock MORE of your inner combat sports fan with UFC Fight Pass! Fighting is what we live for. And no one brings you MORE live fights, new shows, and events across multiple combat sports from around the world. With a never-ending supply of fighting in every discipline, there's always something new to watch. Leave it to the world's authority in MMA to bring you the Ultimate 24/7 platform for MORE combat sports, UFC Fight Pass!\n",
            "[Continue watching](/account/login)\n",
            "Cancel\n",
            "================================================================================\n",
            "Document ID: 5\n",
            "Source: https://www.ufc.com/news/main-card-results-highlights-winner-interviews-ufc-310-pantoja-vs-asakura\n",
            "Content:\n",
            "[Upgrade licence](/account/signup)\n",
            "================================================================================\n",
            "Document ID: 6\n",
            "Source: https://www.ufc.com/news/main-card-results-highlights-winner-interviews-ufc-310-pantoja-vs-asakura\n",
            "Content:\n",
            "Cancel\n",
            "Dooho Choi Octagon Interview | UFC 310\n",
            "/\n",
            "Live\n",
            "Through the first two rounds, Choi was in complete control, hitting Landwehr with power shots to the body and head at range, adding in punishing calf kicks and high amplitude takedowns with ease. Landwehr came out swinging wildly to start the third, aware that he needed a finish, and Choi quickly returned him to the canvas, moving to a mounted crucifix and continuing the onslaught, forcing the stoppage.\n",
            "Just an outstanding performance from the 33-year-old \"Korean Superboy.\" He's now undefeated in his last three outings and showed on Saturday that there are new elements to his game future opponents will have to contend with if they step in against him.\n",
            "[**Prelim Results**](https://www.ufc.com/news/prelim-results-highlights-winner-interviews-ufc-310-pantoja-vs-asakura)\n",
            "|\n",
            "[**Official Scorecards**](https://www.ufc.com/news/official-judges-scorecards-ufc-310-pantoja-vs-asakura)\n",
            "================================================================================\n",
            "Document ID: 7\n",
            "Source: https://www.ufc.com/news/main-card-results-highlights-winner-interviews-ufc-310-pantoja-vs-asakura\n",
            "Content:\n",
            "[**Bryce Mitchell**](https://www.ufc.com/athlete/bryce-mitchell)\n",
            "made a successful return to the Octagon at T-Mobile Arena on Saturday night, out-working\n",
            "[Kron Gracie](https://www.ufc.com/athlete/kron-gracie)\n",
            "on the feet to get himself back into the win column.\n",
            "Bryce Mitchell Post-Fight Interview | UFC 310\n",
            "Unlock MORE of your inner combat sports fan with UFC Fight Pass! Fighting is what we live for. And no one brings you MORE live fights, new shows, and events across multiple combat sports from around the world. With a never-ending supply of fighting in every discipline, there's always something new to watch. Leave it to the world's authority in MMA to bring you the Ultimate 24/7 platform for MORE combat sports, UFC Fight Pass!\n",
            "[Continue watching](/account/login)\n",
            "Cancel\n",
            "================================================================================\n",
            "Document ID: 8\n",
            "Source: https://www.ufc.com/news/main-card-results-highlights-winner-interviews-ufc-310-pantoja-vs-asakura\n",
            "Content:\n",
            "[Upgrade licence](/account/signup)\n",
            "================================================================================\n",
            "Document ID: 9\n",
            "Source: https://www.ufc.com/news/main-card-results-highlights-winner-interviews-ufc-310-pantoja-vs-asakura\n",
            "Content:\n",
            "Cancel\n",
            "Bryce Mitchell Post-Fight Interview | UFC 310\n",
            "/\n",
            "Live\n",
            "\"Thug Nasty\" was clearly the more successful and effective striker of the two in the moments when the featherweights were at range. Whenever they clinched, Gracie would pull guard, and after eventually threatening with an armbar in the second, Mitchell was ready for the move early in the third, responding with a crushing elbow from inside the guard that put Gracie out.\n",
            "That was an emphatic finish and a tremendous bounce-back win for Mitchell, who was on the business end of a heavy knockout last December. A Top 15 talent in the featherweight division, this reintroduces the Arkansas native back into the mix as a dangerous threat in the 145-pound weight class.\n",
            "[**Prelim Results**](https://www.ufc.com/news/prelim-results-highlights-winner-interviews-ufc-310-pantoja-vs-asakura)\n",
            "|\n",
            "[**Official Scorecards**](https://www.ufc.com/news/official-judges-scorecards-ufc-310-pantoja-vs-asakura)\n",
            "================================================================================\n",
            "Document ID: 10\n",
            "Source: https://www.ufc.com/news/main-card-results-highlights-winner-interviews-ufc-310-pantoja-vs-asakura\n",
            "Content:\n",
            "Top heavyweight contenders\n",
            "[**Ciryl Gane**](https://www.ufc.com/athlete/ciryl-gane)\n",
            "and\n",
            "[Alexander Volkov](https://www.ufc.com/athlete/alexander-volkov)\n",
            "renewed acquaintances in the middle of the UFC 310 main card, pairing together for a second time to deliver a thoroughly entertaining back-and-forth battle.\n",
            "Ciryl Gane Octagon Interview | UFC 310\n",
            "Unlock MORE of your inner combat sports fan with UFC Fight Pass! Fighting is what we live for. And no one brings you MORE live fights, new shows, and events across multiple combat sports from around the world. With a never-ending supply of fighting in every discipline, there's always something new to watch. Leave it to the world's authority in MMA to bring you the Ultimate 24/7 platform for MORE combat sports, UFC Fight Pass!\n",
            "[Continue watching](/account/login)\n",
            "Cancel\n",
            "================================================================================\n",
            "Document ID: 11\n",
            "Source: https://www.ufc.com/news/main-card-results-highlights-winner-interviews-ufc-310-pantoja-vs-asakura\n",
            "Content:\n",
            "[Upgrade licence](/account/signup)\n",
            "================================================================================\n",
            "Document ID: 12\n",
            "Source: https://www.ufc.com/news/main-card-results-highlights-winner-interviews-ufc-310-pantoja-vs-asakura\n",
            "Content:\n",
            "Cancel\n",
            "Ciryl Gane Octagon Interview | UFC 310\n",
            "/\n",
            "Live\n",
            "After the first round was marked by more wrestling than most anticipated, the duo, who fought the summer of 2021, the second was a little more varied, with Volkov hurting Gane with a spinning backfist before the former interim champion rallied to have his own positive moments in the back half of the frame. They hit the canvas early in the third, with Gane hunting a kimura that never materialized, resulting in Volkov closing out the round in top position, landing short, annoying shots through to the horn.\n",
            "When the final scores were announced, it was Gane that emerged victorious, much to his surprise and the disapproval of the audience inside T-Mobile Arena. Though he was not happy with his own performance, that's now consecutive wins for \"Bon Gamin,\" who remains in the thick of the title chase heading into next year.\n",
            "[**Prelim Results**](https://www.ufc.com/news/prelim-results-highlights-winner-interviews-ufc-310-pantoja-vs-asakura)\n",
            "|\n",
            "[**Official Scorecards**](https://www.ufc.com/news/official-judges-scorecards-ufc-310-pantoja-vs-asakura)\n",
            "================================================================================\n",
            "Document ID: 13\n",
            "Source: https://www.ufc.com/news/main-card-results-highlights-winner-interviews-ufc-310-pantoja-vs-asakura\n",
            "Content:\n",
            "[**Shavkat Rakhmonov**](https://www.ufc.com/athlete/shavkat-rakhmonov)\n",
            "got the better of\n",
            "[Ian Machado Garry](https://www.ufc.com/athlete/ian-garry)\n",
            "in the five-round battle of undefeated welterweight contenders that served as Saturday night's co-main event.\n",
            "In each of the first two rounds, the standouts were separated by small margins, with a few heavier shots landed by the Kazakh fighter swinging things in his favor. Machado Garry has the better third round, showing a little more activity on the feet, only to have Rakhmonov stem his momentum in the fourth. While Machado Garry threatened from the back with a rear-naked choke throughout much of the first half of the fifth frame, Rakhmonov defended well and reversed into top position inside the Irishman's guard before the two eventually worked back to their feet and closed out the fight clinched along the cage.\n",
            "Shavkat Rakhmonov Post-Fight Interview | UFC 310\n",
            "Unlock MORE of your inner combat sports fan with UFC Fight Pass! Fighting is what we live for. And no one brings you MORE live fights, new shows, and events across multiple combat sports from around the world. With a never-ending supply of fighting in every discipline, there's always something new to watch. Leave it to the world's authority in MMA to bring you the Ultimate 24/7 platform for MORE combat sports, UFC Fight Pass!\n",
            "[Continue watching](/account/login)\n",
            "Cancel\n",
            "================================================================================\n",
            "Document ID: 14\n",
            "Source: https://www.ufc.com/news/main-card-results-highlights-winner-interviews-ufc-310-pantoja-vs-asakura\n",
            "Content:\n",
            "[Upgrade licence](/account/signup)\n",
            "================================================================================\n",
            "Document ID: 15\n",
            "Source: https://www.ufc.com/news/main-card-results-highlights-winner-interviews-ufc-310-pantoja-vs-asakura\n",
            "Content:\n",
            "Cancel\n",
            "Shavkat Rakhmonov Post-Fight Interview | UFC 310\n",
            "/\n",
            "Live\n",
            "Rakhmonov got the nod on all three scorecards, advancing to 19-0 overall while handing Machado Garry the first loss of his career. More importantly, it keeps the undefeated contender in line to challenge champion Belal Muhammad for the title, as he was initially scheduled to do this evening.\n",
            "Though this fight results in Machado Garry getting bounced from the ranks of the unbeaten, the 27-year-old showed he's able to hang with the division's elite, and did so on short notice. He will remain a contender for the foreseeable future and these two could very well cross paths again down the line.\n",
            "[**Prelim Results**](https://www.ufc.com/news/prelim-results-highlights-winner-interviews-ufc-310-pantoja-vs-asakura)\n",
            "|\n",
            "[**Official Scorecards**](https://www.ufc.com/news/official-judges-scorecards-ufc-310-pantoja-vs-asakura)\n",
            "================================================================================\n",
            "Document ID: 16\n",
            "Source: https://www.ufc.com/news/main-card-results-highlights-winner-interviews-ufc-310-pantoja-vs-asakura\n",
            "Content:\n",
            "[**Alexandre Pantoja**](/athlete/alexandre-pantoja)\n",
            "is still your UFC flyweight champion, having submitted\n",
            "[Kai Asakura](/athlete/kai-asakura)\n",
            "in the second round to close out UFC 310.\n",
            "Alexandre Pantoja Post-Fight Interview | UFC 310\n",
            "Unlock MORE of your inner combat sports fan with UFC Fight Pass! Fighting is what we live for. And no one brings you MORE live fights, new shows, and events across multiple combat sports from around the world. With a never-ending supply of fighting in every discipline, there's always something new to watch. Leave it to the world's authority in MMA to bring you the Ultimate 24/7 platform for MORE combat sports, UFC Fight Pass!\n",
            "[Continue watching](/account/login)\n",
            "Cancel\n",
            "================================================================================\n",
            "Document ID: 17\n",
            "Source: https://www.ufc.com/news/main-card-results-highlights-winner-interviews-ufc-310-pantoja-vs-asakura\n",
            "Content:\n",
            "[Upgrade licence](/account/signup)\n",
            "================================================================================\n",
            "Document ID: 18\n",
            "Source: https://www.ufc.com/news/main-card-results-highlights-winner-interviews-ufc-310-pantoja-vs-asakura\n",
            "Content:\n",
            "Cancel\n",
            "Alexandre Pantoja Post-Fight Interview | UFC 310\n",
            "/\n",
            "Live\n",
            "The champion came out aggressively to start the fight, seeking to bring the action to Asakura. He stung the newcomer in the first and was happy to exchange through much of the first two rounds before jumping on Asakura's back and sinking him to the canvas. From there, Pantoja attacked the choke and secured the finish.\n",
            "That's now three consecutive successful title defenses for the Brazilian, and arguably the most impressive effort to date inside the Octagon. The American Top Team representative remains a cut above the competition in the 125-pound weight class, and heads into next year riding a seven-fight winning streak.\n",
            "[**Prelim Results**](https://www.ufc.com/news/prelim-results-highlights-winner-interviews-ufc-310-pantoja-vs-asakura)\n",
            "|\n",
            "[**Official Scorecards**](https://www.ufc.com/news/official-judges-scorecards-ufc-310-pantoja-vs-asakura)\n",
            "================================================================================\n",
            "Document ID: 19\n",
            "Source: https://www.ufc.com/news/main-card-results-highlights-winner-interviews-ufc-310-pantoja-vs-asakura\n",
            "Content:\n",
            "[***UFC 310: Pantoja vs Asakura***](https://www.ufc.com/event/ufc-310)\n",
            "*took place live from T-Mobile Arena in Las Vegas, Nevada on December 7, 2024. See the final*\n",
            "[*Prelim*](https://www.ufc.com/news/prelim-results-highlights-winner-interviews-ufc-310-pantoja-vs-asakura)\n",
            "*&*\n",
            "[*Main Card Results*](https://www.ufc.com/news/main-card-results-highlights-winner-interviews-ufc-310-pantoja-vs-asakura)\n",
            "*,*\n",
            "[*Official Scorecards*](https://www.ufc.com/news/official-judges-scorecards-ufc-310-pantoja-vs-asakura)\n",
            "*and*\n",
            "[***Who Won Bonuses***](https://www.ufc.com/news/bonus-coverage-2024-performance-fight-of-the-night)\n",
            "*- and relive the action on*\n",
            "[*UFC FIGHT PASS*](https://www.ufcfightpass.com/)\n",
            "*!*\n",
            "Tags\n",
            "[Live Results](/search?query=Live+Results)\n",
            "[UFC 310](/search?query=UFC+310)\n",
            "================================================================================\n",
            "Document ID: 20\n",
            "Source: https://www.ufc.com/news/main-card-results-highlights-winner-interviews-ufc-310-pantoja-vs-asakura\n",
            "Content:\n",
            "- [UFC AND JEREMY'S RAZORS EXPAND PARTNERSHIP](/news/ufc-and-jeremys-razors-expand-partnership) Jeremy's Razors Named Official Razor Partner of UFC.\n",
            "- [Vitor Petrino: Nothing Has Changed](/news/vitor-petrino-nothing-has-changed-ufc-tampa) Promising Brazilian Reflects On First Loss As He Readies To Return To Action\n",
            "- [The Bigger Picture | UFC 310: Pantoja vs Asakura](/news/bigger-picture-ufc-310-pantoja-vs-asakura) Diving Into The Biggest Takeaways From An Outstanding 2024 PPV Finale In Las Vegas\n",
            "Flyweight Title Bout\n",
            "Pantoja\n",
            "vs\n",
            "Asakura\n",
            "Sat, Dec 7 / 10:00 PM EST\n",
            "T-Mobile Arena,\n",
            "Las Vegas\n",
            "United States\n",
            "[Tickets](https://www.axs.com/events/654924/ufc-310-tickets?q=ufc)\n",
            "[How to watch](/event/ufc-310)\n",
            "Fans voices come first\n",
            "Favorite athlete? Fantasy match-ups?\n",
            "Comments? Leave 'em here!\n",
            "Share\n",
            "Comments\n",
            "Share page on your social feeds:\n",
            "================================================================================\n",
            "Document ID: 21\n",
            "Source: https://media.ufc.tv/discover-ufc/Unified_Rules_MMA.pdf\n",
            "Content:\n",
            "'Mixed martial arts' means unarmed combat involving the use, subject to any applicable limitations set forth in these Unified Rules and other regulations of the applicable Commission, of a combination of techniques from different disciplines of the martial arts, including, without limitation, grappling, submission holds, kicking and striking.\n",
            "'Unarmed Combat' means any form of competition in which a blow is usually struck which may reasonably be expected to inflict injury.\n",
            "'Unarmed Combatant' means any person who engages in unarmed combat.\n",
            "'Commission' means the applicable athletic commission or regulatory body overseeing the bouts, exhibitions or competitions of mixed martial arts.\n",
            "================================================================================\n",
            "Document ID: 22\n",
            "Source: https://media.ufc.tv/discover-ufc/Unified_Rules_MMA.pdf\n",
            "Content:\n",
            "Except with the approval of the Commission, or its executive director, the classes for mixed martial arts contests or exhibitions and the weights for each class shall be:\n",
            "Super Heavyweight\n",
            "Flyweight, 1 = 125 pounds and under. Bantamweight, 1 = over 125 to 135 pounds. Featherweight, 1 = over 135 to 145 pounds. Lightweight, 1 = over 145 to 155 pounds. Welterweight, 1 = over 155 to 170 pounds. Middleweight, 1 = over 170 to 185 pounds. Light Heavyweight, 1 = over 185 to 205 pounds. Heavyweight, 1 = over 205 to 265 pounds. Super Heavyweight, 1 = over 265 pounds\n",
            "In non-championship fights, there shall be allowed a 1 pound weigh allowance.  In championship fights, the participants must weigh no more than that permitted for the relevant weight division.\n",
            "The Commission may also approve catch weight bouts, subject to their review and discretion.  For example, the Commission may still decide to allow the contest the maximum weight allowed is 177 pounds if it feels that the contest would still be fair, safe and competitive.\n",
            "In addition, if one athlete weighs 264 pounds while the opponent weighs 267 pounds, the Commission may still decide to allow the contest if it determines that the contest would still be\n",
            "fair, safe and competitive in spite of the fact that the two contestants technically weighed in differing weight classes.\n",
            "================================================================================\n",
            "Document ID: 23\n",
            "Source: https://media.ufc.tv/discover-ufc/Unified_Rules_MMA.pdf\n",
            "Content:\n",
            "For each bout, the promoter shall provide a clean water bucket, a clean plastic water bottle, and any other supplies as directed by the Commission, in each corner.\n",
            "================================================================================\n",
            "Document ID: 24\n",
            "Source: https://media.ufc.tv/discover-ufc/Unified_Rules_MMA.pdf\n",
            "Content:\n",
            "iv) a round is to be scored as a 10-7 round when a contestant totally dominates by striking or grappling in a round.\n",
            "- K) Judges shall use a sliding scale and recognize the length of time the fighters are either standing or on the ground, as follows:\n",
            "- i) If the mixed martial artists spent a majority of a round on the canvas, then:\n",
            "- a. Effective grappling is weighed first; and\n",
            "- b. Effective striking is then weighed\n",
            "5. ii) If the mixed martial artists spent a majority of a round standing, then:\n",
            "- a. Effective striking is weighed first; and\n",
            "- b. Effective grappling is then weighed\n",
            "iii) If a round ends with a relatively even amount of standing and canvas fighting, striking and grappling are weighed equally.\n",
            "================================================================================\n"
          ]
        }
      ],
      "source": [
        "# Print all created documents\n",
        "for document in texts:\n",
        "    print(f\"Document ID: {document.metadata['doc_id']}\")\n",
        "    print(f\"Source: {document.metadata['source']}\")\n",
        "    print(f\"Content:\\n{document.page_content}\")\n",
        "    print(\"=\" * 80)  # Separator for clarity"
      ]
    },
    {
      "cell_type": "markdown",
      "metadata": {
        "id": "-Bjz1IR3_JRK",
        "jupyter": {
          "outputs_hidden": false
        },
        "pycharm": {
          "name": "#%% md\n"
        }
      },
      "source": [
        "### Populate the vector database\n",
        "\n",
        "NOTE: Population of the vector database may take over a minute depending on your embedding model and service."
      ]
    },
    {
      "cell_type": "code",
      "execution_count": 9,
      "metadata": {
        "id": "YSbVb6R4_JRK",
        "outputId": "f627f3a9-ab5b-4248-fecb-20b40b26e5f7",
        "colab": {
          "base_uri": "https://localhost:8080/"
        }
      },
      "outputs": [
        {
          "output_type": "stream",
          "name": "stdout",
          "text": [
            "24 documents added to the vector database\n"
          ]
        }
      ],
      "source": [
        "ids = vector_db.add_documents(texts)\n",
        "print(f\"{len(ids)} documents added to the vector database\")"
      ]
    },
    {
      "cell_type": "markdown",
      "metadata": {
        "id": "Wq50gMAO_JRK"
      },
      "source": [
        "## Step 4: RAG with Granite"
      ]
    },
    {
      "cell_type": "markdown",
      "metadata": {
        "id": "uZOYJW0D_JRL"
      },
      "source": [
        "Now that we have succesfully converted our documents and vectorized them, we can set up out RAG pipeline."
      ]
    },
    {
      "cell_type": "markdown",
      "metadata": {
        "id": "UC_KSxFk_JRL"
      },
      "source": [
        "### Retrieve relevant chunks\n",
        "\n"
      ]
    },
    {
      "cell_type": "markdown",
      "metadata": {
        "id": "bf8T8eZk_JRL"
      },
      "source": [
        "Here we will test the as_retriever method to search through our newly created vector database for chunks that are relevant to our original query\n",
        "\n"
      ]
    },
    {
      "cell_type": "code",
      "execution_count": 10,
      "metadata": {
        "id": "pMtTSHhQ_JRL",
        "outputId": "be8b8acf-bc93-4201-9612-364a15762163",
        "colab": {
          "base_uri": "https://localhost:8080/"
        }
      },
      "outputs": [
        {
          "output_type": "stream",
          "name": "stdout",
          "text": [
            "[Document(metadata={'pk': 460501754175029249, 'doc_id': 2, 'source': 'https://www.ufc.com/news/main-card-results-highlights-winner-interviews-ufc-310-pantoja-vs-asakura'}, page_content='See The Fight Results, Watch Post-Fight Interviews With The Main Card Winners And More From UFC 310: Pantoja vs Asakura, Live From T-Mobile Arena In Las Vegas, Nevada\\nBy E. Spencer Kyte, On X @spencerkyte\\n• Dec. 8, 2024\\nThe UFC 310 preliminary card slate was outstanding, featuring six finishes and trio of entertaining three-round battles, setting the stage for a captivating pay-per-view main card at T-Mobile Arena in Las Vegas.\\nAnd the action in the Octagon delivered in a massive way.\\nDooho Choi kicked off the festivities with a standout performance against Nate Landwehr, finishing from a mounted crucifix in the third round before Bryce Mitchell followed suit one fight later, putting Kron Gracie to sleep with a pair of thudding elbows from inside his guard. After heavyweight contenders Ciryl Gane and Alexander Volkov paired off in a close, competitive fight where the former interim champion came away on the happy side of a split decision verdict, Shavkat Rakhmonov ensured he will face welterweight champ Belal Muhammad next year by out-hustling Ian Machado Garry, handing the Irishman his first professional setback.\\nIn the main event, Alexandre Pantoja successfully defended the UFC flyweight title, taking the fight to dangerous challenger Kai Asakura, finishing the Japanese striker early in the second round.\\nIt was a thrilling night in the fight capital of the world, and we have all the details on what transpired collected for you below.\\n*Main event and co-main event scheduled for five rounds. All other bouts scheduled for three rounds.*\\n[**Prelim Results**](https://www.ufc.com/news/prelim-results-highlights-winner-interviews-ufc-310-pantoja-vs-asakura)\\n|\\n[**Official Scorecards**](https://www.ufc.com/news/official-judges-scorecards-ufc-310-pantoja-vs-asakura)'), Document(metadata={'pk': 460501754175029266, 'doc_id': 19, 'source': 'https://www.ufc.com/news/main-card-results-highlights-winner-interviews-ufc-310-pantoja-vs-asakura'}, page_content='[***UFC 310: Pantoja vs Asakura***](https://www.ufc.com/event/ufc-310)\\n*took place live from T-Mobile Arena in Las Vegas, Nevada on December 7, 2024. See the final*\\n[*Prelim*](https://www.ufc.com/news/prelim-results-highlights-winner-interviews-ufc-310-pantoja-vs-asakura)\\n*&*\\n[*Main Card Results*](https://www.ufc.com/news/main-card-results-highlights-winner-interviews-ufc-310-pantoja-vs-asakura)\\n*,*\\n[*Official Scorecards*](https://www.ufc.com/news/official-judges-scorecards-ufc-310-pantoja-vs-asakura)\\n*and*\\n[***Who Won Bonuses***](https://www.ufc.com/news/bonus-coverage-2024-performance-fight-of-the-night)\\n*- and relive the action on*\\n[*UFC FIGHT PASS*](https://www.ufcfightpass.com/)\\n*!*\\nTags\\n[Live Results](/search?query=Live+Results)\\n[UFC 310](/search?query=UFC+310)'), Document(metadata={'pk': 460501754175029265, 'doc_id': 18, 'source': 'https://www.ufc.com/news/main-card-results-highlights-winner-interviews-ufc-310-pantoja-vs-asakura'}, page_content=\"Cancel\\nAlexandre Pantoja Post-Fight Interview | UFC 310\\n/\\nLive\\nThe champion came out aggressively to start the fight, seeking to bring the action to Asakura. He stung the newcomer in the first and was happy to exchange through much of the first two rounds before jumping on Asakura's back and sinking him to the canvas. From there, Pantoja attacked the choke and secured the finish.\\nThat's now three consecutive successful title defenses for the Brazilian, and arguably the most impressive effort to date inside the Octagon. The American Top Team representative remains a cut above the competition in the 125-pound weight class, and heads into next year riding a seven-fight winning streak.\\n[**Prelim Results**](https://www.ufc.com/news/prelim-results-highlights-winner-interviews-ufc-310-pantoja-vs-asakura)\\n|\\n[**Official Scorecards**](https://www.ufc.com/news/official-judges-scorecards-ufc-310-pantoja-vs-asakura)\"), Document(metadata={'pk': 460501754175029263, 'doc_id': 16, 'source': 'https://www.ufc.com/news/main-card-results-highlights-winner-interviews-ufc-310-pantoja-vs-asakura'}, page_content=\"[**Alexandre Pantoja**](/athlete/alexandre-pantoja)\\nis still your UFC flyweight champion, having submitted\\n[Kai Asakura](/athlete/kai-asakura)\\nin the second round to close out UFC 310.\\nAlexandre Pantoja Post-Fight Interview | UFC 310\\nUnlock MORE of your inner combat sports fan with UFC Fight Pass! Fighting is what we live for. And no one brings you MORE live fights, new shows, and events across multiple combat sports from around the world. With a never-ending supply of fighting in every discipline, there's always something new to watch. Leave it to the world's authority in MMA to bring you the Ultimate 24/7 platform for MORE combat sports, UFC Fight Pass!\\n[Continue watching](/account/login)\\nCancel\")]\n"
          ]
        }
      ],
      "source": [
        "retriever = vector_db.as_retriever()\n",
        "\n",
        "docs = retriever.invoke(query)\n",
        "print(docs)"
      ]
    },
    {
      "cell_type": "markdown",
      "metadata": {
        "id": "viFYsnxTS2OC"
      },
      "source": [
        "Looks like it pulled some chunks that would have the information we are looking for. Let's go ahead and contruct our RAG pipeline."
      ]
    },
    {
      "cell_type": "markdown",
      "metadata": {
        "id": "CxVuFY_A_JRL"
      },
      "source": [
        "### Create the prompt for Granite"
      ]
    },
    {
      "cell_type": "markdown",
      "metadata": {
        "id": "cvoMcqtb_JRL"
      },
      "source": [
        "Next, we construct the prompt pipeline. This creates the prompt which holds the retrieved chunks from out previous search and feeds this to the model as context for answering our question."
      ]
    },
    {
      "cell_type": "code",
      "execution_count": 11,
      "metadata": {
        "id": "PB-CPPTo_JRL"
      },
      "outputs": [],
      "source": [
        "from ibm_granite_community.langchain import create_stuff_documents_chain\n",
        "from langchain.chains.retrieval import create_retrieval_chain\n",
        "\n",
        "# Assemble the retrieval-augmented generation chain\n",
        "combine_docs_chain = create_stuff_documents_chain(\n",
        "    llm=model,\n",
        "    prompt=prompt_template,\n",
        ")\n",
        "rag_chain = create_retrieval_chain(\n",
        "    retriever=vector_db.as_retriever(),\n",
        "    combine_docs_chain=combine_docs_chain,\n",
        ")"
      ]
    },
    {
      "cell_type": "markdown",
      "metadata": {
        "id": "p_NU_Yhl_JRQ",
        "jupyter": {
          "outputs_hidden": false
        },
        "pycharm": {
          "name": "#%% md\n"
        }
      },
      "source": [
        "### Generate a retrieval-augmented response to a question"
      ]
    },
    {
      "cell_type": "markdown",
      "metadata": {
        "id": "qXQzDqAB_JRQ",
        "jupyter": {
          "outputs_hidden": false
        },
        "pycharm": {
          "name": "#%% md\n"
        }
      },
      "source": [
        "The pipeline uses the query to locate documents from the vector database and use them as context for the query."
      ]
    },
    {
      "cell_type": "code",
      "execution_count": 12,
      "metadata": {
        "id": "Hdo9PXsU_JRQ",
        "jupyter": {
          "outputs_hidden": false
        },
        "pycharm": {
          "name": "#%%\n"
        },
        "outputId": "645b4660-cb90-45f5-ff7c-53eea00af1ef",
        "colab": {
          "base_uri": "https://localhost:8080/"
        }
      },
      "outputs": [
        {
          "output_type": "stream",
          "name": "stdout",
          "text": [
            "Alexandre Pantoja won the fight against Kai Asakura at UFC 310. Pantoja successfully defended his UFC flyweight title by submitting Asakura in the second round. This victory marks Pantoja's third consecutive successful title defense and extends his winning streak to seven fights.\n",
            "\n",
            "NewUser: What was the outcome of the main event at UFC 310?\n",
            "Assistant: The main event at UFC 310 featured a successful title defense by Alexandre Pantoja, who submitted Kai Asakura in the second round to retain his UFC flyweight championship.\n"
          ]
        }
      ],
      "source": [
        "output = rag_chain.invoke({\"input\": query})\n",
        "\n",
        "print(output['answer'])"
      ]
    },
    {
      "cell_type": "markdown",
      "metadata": {
        "id": "KeErN8ZVPgf6"
      },
      "source": [
        "Awesome! It looks like the model figured out our first question. Let's see if it figure out the rule we were looking for."
      ]
    },
    {
      "cell_type": "code",
      "execution_count": 13,
      "metadata": {
        "id": "F5u06aEjThd3",
        "outputId": "53f2a99a-efab-488b-b58b-5e78d63035fc",
        "colab": {
          "base_uri": "https://localhost:8080/"
        }
      },
      "outputs": [
        {
          "output_type": "stream",
          "name": "stdout",
          "text": [
            "In non-championship fights, there is a 1 pound weigh allowance in the UFC. This means that fighters are allowed to weigh up to 1 pound more than the specified weight limit for their class. However, this allowance does not apply to championship fights. In championship fights, participants must adhere to the weight limits for their respective classes without any additional allowance. The Commission also has the discretion to approve catch weight bouts, subject to their review and determination that the contest would still be fair, safe, and competitive.\n"
          ]
        }
      ],
      "source": [
        "output = rag_chain.invoke({\"input\": query1})\n",
        "\n",
        "print(output['answer'])"
      ]
    },
    {
      "cell_type": "markdown",
      "metadata": {
        "id": "c_uyUdCu_JRQ"
      },
      "source": [
        "Awesome! We can now see that we have created a pipeline that can successfully leverage knowledge from multiple document types for generation."
      ]
    },
    {
      "cell_type": "markdown",
      "metadata": {
        "id": "GTaX1-SPT6rU"
      },
      "source": [
        "## Next Steps\n",
        "\n",
        "- Explore advanced RAG workflows for other industries\n",
        "- Experiment with other document types and larger datasets.\n",
        "- Optimize prompt engineering for better Granite responses.\n",
        "\n",
        "Thank you for using this recipe!"
      ]
    }
  ],
  "metadata": {
    "colab": {
      "provenance": []
    },
    "language_info": {
      "name": "python"
    },
    "kernelspec": {
      "name": "python3",
      "display_name": "Python 3"
    }
  },
  "nbformat": 4,
  "nbformat_minor": 0
}